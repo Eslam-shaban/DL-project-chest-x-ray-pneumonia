{
 "cells": [
  {
   "cell_type": "code",
   "execution_count": 1,
   "metadata": {},
   "outputs": [],
   "source": [
    "import os"
   ]
  },
  {
   "cell_type": "code",
   "execution_count": 2,
   "metadata": {},
   "outputs": [
    {
     "data": {
      "text/plain": [
       "'c:\\\\ds_projects\\\\End-to-End-Lung-Cancer-Classification-MLflow-DVC\\\\research'"
      ]
     },
     "execution_count": 2,
     "metadata": {},
     "output_type": "execute_result"
    }
   ],
   "source": [
    "%pwd"
   ]
  },
  {
   "cell_type": "code",
   "execution_count": 3,
   "metadata": {},
   "outputs": [],
   "source": [
    "os.chdir(\"../\")"
   ]
  },
  {
   "cell_type": "code",
   "execution_count": 4,
   "metadata": {},
   "outputs": [
    {
     "data": {
      "text/plain": [
       "'c:\\\\ds_projects\\\\End-to-End-Lung-Cancer-Classification-MLflow-DVC'"
      ]
     },
     "execution_count": 4,
     "metadata": {},
     "output_type": "execute_result"
    }
   ],
   "source": [
    "%pwd"
   ]
  },
  {
   "cell_type": "code",
   "execution_count": 5,
   "metadata": {},
   "outputs": [],
   "source": [
    "from dataclasses import dataclass\n",
    "from pathlib import Path\n",
    "\n",
    "@dataclass(frozen=True)\n",
    "class TrainingConfig:\n",
    "    root_dir: Path\n",
    "    trained_model_path: Path\n",
    "    updated_base_model_path: Path\n",
    "    training_data: Path\n",
    "    validation_data: Path\n",
    "    testing_data: Path\n",
    "    params_epochs: int\n",
    "    params_batch_size: int\n",
    "    params_is_augmentation: bool\n",
    "    params_image_size: list\n",
    "\n",
    "\n",
    "@dataclass(frozen=True)\n",
    "class PrepareCallbacksConfig:\n",
    "    root_dir: Path\n",
    "    tensorboard_root_log_dir: Path\n",
    "    checkpoint_model_filepath: Path"
   ]
  },
  {
   "cell_type": "code",
   "execution_count": 6,
   "metadata": {},
   "outputs": [],
   "source": [
    "from lung_cancer.constants import *\n",
    "from lung_cancer.utils.common import read_yaml, create_directories\n",
    "import tensorflow as tf"
   ]
  },
  {
   "cell_type": "code",
   "execution_count": 7,
   "metadata": {},
   "outputs": [],
   "source": [
    "class ConfigurationManager:\n",
    "    def __init__(\n",
    "        self, \n",
    "        config_filepath = CONFIG_FILE_PATH,\n",
    "        params_filepath = PARAMS_FILE_PATH):\n",
    "        self.config = read_yaml(config_filepath)\n",
    "        self.params = read_yaml(params_filepath)\n",
    "        create_directories([self.config.artifacts_root]) # create artifacts directory\n",
    "\n",
    "\n",
    "    def get_prepare_callback_config(self) -> PrepareCallbacksConfig:\n",
    "        config = self.config.prepare_callbacks\n",
    "        model_ckpt_dir = os.path.dirname(config.checkpoint_model_filepath) # return artifacts/prepare_callbacks/checkpoint_dir\n",
    "        create_directories([\n",
    "            Path(model_ckpt_dir), # artifacts/prepare_callbacks/checkpoint_dir\n",
    "            Path(config.tensorboard_root_log_dir) # create artifacts/prepare_callbacks/tensorboard_log_dir\n",
    "        ])\n",
    "\n",
    "        prepare_callback_config = PrepareCallbacksConfig(\n",
    "            root_dir=Path(config.root_dir),\n",
    "            tensorboard_root_log_dir=Path(config.tensorboard_root_log_dir),\n",
    "            checkpoint_model_filepath=Path(config.checkpoint_model_filepath)\n",
    "        )\n",
    "        return prepare_callback_config\n",
    "    \n",
    "\n",
    "    def get_training_config(self) -> TrainingConfig:\n",
    "        training = self.config.training\n",
    "        prepare_base_model = self.config.prepare_base_model\n",
    "        params = self.params\n",
    "        training_data = os.path.join(self.config.data_ingestion.unzip_dir, \"Data\",\"train\")\n",
    "        validation_data = os.path.join(self.config.data_ingestion.unzip_dir, \"Data\",\"valid\")\n",
    "        testing_data = os.path.join(self.config.data_ingestion.unzip_dir, \"Data\",\"test\")\n",
    "        create_directories([\n",
    "            Path(training.root_dir) # Create artifacts/training \n",
    "        ])\n",
    "\n",
    "        training_config = TrainingConfig(\n",
    "            root_dir=Path(training.root_dir),\n",
    "            trained_model_path=Path(training.trained_model_path),\n",
    "            updated_base_model_path=Path(prepare_base_model.updated_base_model_path),\n",
    "            training_data=Path(training_data),\n",
    "            validation_data=Path(validation_data),\n",
    "            testing_data=Path(testing_data),\n",
    "            params_epochs=params.EPOCHS,\n",
    "            params_batch_size=params.BATCH_SIZE,\n",
    "            params_is_augmentation=params.AUGMENTATION,\n",
    "            params_image_size=params.IMAGE_SIZE\n",
    "        )\n",
    "\n",
    "        return training_config"
   ]
  },
  {
   "cell_type": "code",
   "execution_count": 8,
   "metadata": {},
   "outputs": [],
   "source": [
    "import time"
   ]
  },
  {
   "cell_type": "code",
   "execution_count": 9,
   "metadata": {},
   "outputs": [],
   "source": [
    "class PrepareCallback:\n",
    "    def __init__(self, config: PrepareCallbacksConfig):\n",
    "        self.config = config\n",
    "        self.early_stopping = tf.keras.callbacks.EarlyStopping(monitor= 'val_loss', patience= 15)\n",
    "\n",
    "\n",
    "    @property\n",
    "    def _create_tb_callbacks(self):\n",
    "        timestamp = time.strftime(\"%Y-%m-%d-%H-%M-%S\")\n",
    "        tb_running_log_dir = os.path.join(\n",
    "            self.config.tensorboard_root_log_dir,\n",
    "            f\"tb_logs_at_{timestamp}\",\n",
    "        )\n",
    "        return tf.keras.callbacks.TensorBoard(log_dir=tb_running_log_dir)\n",
    "    \n",
    "\n",
    "    @property\n",
    "    def _create_ckpt_callbacks(self):\n",
    "        return tf.keras.callbacks.ModelCheckpoint(\n",
    "            filepath=str(self.config.checkpoint_model_filepath),\n",
    "            save_best_only=True\n",
    "        )\n",
    "\n",
    "\n",
    "    def get_tb_ckpt_callbacks(self):\n",
    "        return [\n",
    "            self._create_tb_callbacks,\n",
    "            self._create_ckpt_callbacks,\n",
    "            self.early_stopping\n",
    "        ]"
   ]
  },
  {
   "cell_type": "code",
   "execution_count": 10,
   "metadata": {},
   "outputs": [],
   "source": [
    "import os\n",
    "import urllib.request as request\n",
    "from zipfile import ZipFile\n",
    "import tensorflow as tf\n",
    "import time"
   ]
  },
  {
   "cell_type": "code",
   "execution_count": 12,
   "metadata": {},
   "outputs": [
    {
     "data": {
      "text/plain": [
       "True"
      ]
     },
     "execution_count": 12,
     "metadata": {},
     "output_type": "execute_result"
    }
   ],
   "source": [
    "#gpus = len(tf.config.experimental.list_physical_devices('GPU'))>0\n",
    "#gpus"
   ]
  },
  {
   "cell_type": "code",
   "execution_count": 13,
   "metadata": {},
   "outputs": [],
   "source": [
    "#import tensorflow as tf\n",
    "#gpus = tf.config.experimental.list_physical_devices('GPU')\n",
    "#if gpus:\n",
    "#    try:\n",
    "#        for gpu in gpus:\n",
    "#            tf.config.experimental.set_memory_growth(gpu, True)\n",
    "#    except RuntimeError as e:\n",
    "#        print(e)"
   ]
  },
  {
   "cell_type": "code",
   "execution_count": 11,
   "metadata": {},
   "outputs": [],
   "source": [
    "class Training:\n",
    "    def __init__(self, config: TrainingConfig):\n",
    "        self.config = config\n",
    "\n",
    "    # load model\n",
    "    def get_base_model(self):\n",
    "        self.model = tf.keras.models.load_model(\n",
    "            self.config.updated_base_model_path\n",
    "        )\n",
    "    \n",
    "    \n",
    "    def train_valid_test_generator(self):\n",
    "\n",
    "        # kwargs for datageerator\n",
    "        datagenerator_kwargs = dict(\n",
    "            dtype='float32',\n",
    "            rescale = 1./255,\n",
    "           # validation_split=0.20\n",
    "        )\n",
    "         # kwargs for dataflow\n",
    "        dataflow_kwargs = dict(\n",
    "            target_size=self.config.params_image_size[:-1],\n",
    "            batch_size=self.config.params_batch_size,\n",
    "            interpolation=\"bilinear\"\n",
    "        )\n",
    "        # validation data set(datagenerator and generator)\n",
    "        valid_datagenerator = tf.keras.preprocessing.image.ImageDataGenerator(\n",
    "            **datagenerator_kwargs\n",
    "        )\n",
    "        self.valid_generator = valid_datagenerator.flow_from_directory(\n",
    "            directory=self.config.validation_data,\n",
    "            #subset=\"validation\",\n",
    "            shuffle=False,\n",
    "            class_mode=\"categorical\",\n",
    "            **dataflow_kwargs\n",
    "        )\n",
    "         # training data set(datagenerator and generator)\n",
    "        if self.config.params_is_augmentation:\n",
    "            train_datagenerator = tf.keras.preprocessing.image.ImageDataGenerator(\n",
    "                rotation_range=40,\n",
    "                horizontal_flip=True,\n",
    "                width_shift_range=0.2,\n",
    "                height_shift_range=0.2,\n",
    "                shear_range=0.2,\n",
    "                zoom_range=0.2,\n",
    "                **datagenerator_kwargs\n",
    "            )\n",
    "        else:\n",
    "            train_datagenerator = valid_datagenerator\n",
    "\n",
    "        self.train_generator = train_datagenerator.flow_from_directory(\n",
    "            directory=self.config.training_data,\n",
    "            #subset=\"training\",\n",
    "            shuffle=True,\n",
    "            class_mode=\"categorical\",\n",
    "            **dataflow_kwargs\n",
    "        )\n",
    "        # testing data set(datagenerator and generator)\n",
    "        test_datagenerator  =  tf.keras.preprocessing.image.ImageDataGenerator(**datagenerator_kwargs)\n",
    "        self.test_generator = test_datagenerator.flow_from_directory(\n",
    "            directory=self.config.testing_data,\n",
    "            shuffle=False,\n",
    "            class_mode=\"categorical\"\n",
    "            )\n",
    "\n",
    "    @staticmethod\n",
    "    def save_model(path: Path, model: tf.keras.Model):\n",
    "        model.save(path)\n",
    "\n",
    "\n",
    "    def train(self, callback_list: list):\n",
    "        self.steps_per_epoch = self.train_generator.samples // self.train_generator.batch_size\n",
    "        self.validation_steps = self.valid_generator.samples // self.valid_generator.batch_size\n",
    "\n",
    "        self.model.fit(\n",
    "            self.train_generator,\n",
    "            epochs=self.config.params_epochs,\n",
    "            steps_per_epoch=self.steps_per_epoch,\n",
    "            validation_steps=self.validation_steps,\n",
    "            validation_data=self.valid_generator,\n",
    "            callbacks=callback_list\n",
    "        )\n",
    "\n",
    "        self.save_model(\n",
    "            path=self.config.trained_model_path,\n",
    "            model=self.model\n",
    "        )\n"
   ]
  },
  {
   "cell_type": "code",
   "execution_count": 12,
   "metadata": {},
   "outputs": [
    {
     "name": "stdout",
     "output_type": "stream",
     "text": [
      "[2023-10-10 15:34:42,798: INFO: common: yaml file: config\\config.yaml loaded successfully]\n",
      "[2023-10-10 15:34:42,801: INFO: common: yaml file: params.yaml loaded successfully]\n",
      "[2023-10-10 15:34:42,802: INFO: common: created directory at: artifacts]\n",
      "[2023-10-10 15:34:42,803: INFO: common: created directory at: artifacts\\prepare_callbacks\\checkpoint_dir]\n",
      "[2023-10-10 15:34:42,804: INFO: common: created directory at: artifacts\\prepare_callbacks\\tensorboard_log_dir]\n",
      "[2023-10-10 15:34:42,807: INFO: common: created directory at: artifacts\\training]\n",
      "Found 72 images belonging to 4 classes.\n",
      "Found 613 images belonging to 4 classes.\n",
      "Found 315 images belonging to 4 classes.\n",
      "Epoch 1/50\n",
      "38/38 [==============================] - 55s 1s/step - loss: 1.3646 - accuracy: 0.3936 - val_loss: 1.1603 - val_accuracy: 0.4531\n",
      "Epoch 2/50\n"
     ]
    },
    {
     "name": "stderr",
     "output_type": "stream",
     "text": [
      "c:\\Users\\eslam\\anaconda3\\envs\\cnn-cancer-env\\lib\\site-packages\\keras\\src\\engine\\training.py:3000: UserWarning: You are saving your model as an HDF5 file via `model.save()`. This file format is considered legacy. We recommend using instead the native Keras format, e.g. `model.save('my_model.keras')`.\n",
      "  saving_api.save_model(\n"
     ]
    },
    {
     "name": "stdout",
     "output_type": "stream",
     "text": [
      "38/38 [==============================] - 61s 2s/step - loss: 1.0125 - accuracy: 0.5745 - val_loss: 1.0211 - val_accuracy: 0.6406\n",
      "Epoch 3/50\n",
      "38/38 [==============================] - 58s 2s/step - loss: 0.9486 - accuracy: 0.5980 - val_loss: 0.9693 - val_accuracy: 0.5312\n",
      "Epoch 4/50\n",
      "38/38 [==============================] - 58s 2s/step - loss: 0.8615 - accuracy: 0.6214 - val_loss: 0.9178 - val_accuracy: 0.5156\n",
      "Epoch 5/50\n",
      "38/38 [==============================] - 58s 2s/step - loss: 0.8093 - accuracy: 0.6801 - val_loss: 0.8481 - val_accuracy: 0.6250\n",
      "Epoch 6/50\n",
      "38/38 [==============================] - 58s 2s/step - loss: 0.7854 - accuracy: 0.6600 - val_loss: 0.8275 - val_accuracy: 0.6094\n",
      "Epoch 7/50\n",
      "38/38 [==============================] - 58s 2s/step - loss: 0.7413 - accuracy: 0.6750 - val_loss: 0.8612 - val_accuracy: 0.5938\n",
      "Epoch 8/50\n",
      "38/38 [==============================] - 61s 2s/step - loss: 0.7238 - accuracy: 0.6884 - val_loss: 0.8396 - val_accuracy: 0.6719\n",
      "Epoch 9/50\n",
      "38/38 [==============================] - 61s 2s/step - loss: 0.6637 - accuracy: 0.7320 - val_loss: 0.7585 - val_accuracy: 0.6875\n",
      "Epoch 10/50\n",
      "38/38 [==============================] - 59s 2s/step - loss: 0.6535 - accuracy: 0.7270 - val_loss: 0.7171 - val_accuracy: 0.6562\n",
      "Epoch 11/50\n",
      "38/38 [==============================] - 59s 2s/step - loss: 0.6941 - accuracy: 0.6918 - val_loss: 0.7110 - val_accuracy: 0.7031\n",
      "Epoch 12/50\n",
      "38/38 [==============================] - 59s 2s/step - loss: 0.6525 - accuracy: 0.7270 - val_loss: 0.7186 - val_accuracy: 0.6719\n",
      "Epoch 13/50\n",
      "38/38 [==============================] - 59s 2s/step - loss: 0.6846 - accuracy: 0.7035 - val_loss: 0.7352 - val_accuracy: 0.6875\n",
      "Epoch 14/50\n",
      "38/38 [==============================] - 60s 2s/step - loss: 0.5440 - accuracy: 0.7889 - val_loss: 0.7511 - val_accuracy: 0.7344\n",
      "Epoch 15/50\n",
      "38/38 [==============================] - 59s 2s/step - loss: 0.6208 - accuracy: 0.7655 - val_loss: 0.6426 - val_accuracy: 0.7188\n",
      "Epoch 16/50\n",
      "38/38 [==============================] - 60s 2s/step - loss: 0.5669 - accuracy: 0.7605 - val_loss: 0.6815 - val_accuracy: 0.7344\n",
      "Epoch 17/50\n",
      "38/38 [==============================] - 60s 2s/step - loss: 0.5694 - accuracy: 0.7739 - val_loss: 0.7190 - val_accuracy: 0.7812\n",
      "Epoch 18/50\n",
      "38/38 [==============================] - 59s 2s/step - loss: 0.5689 - accuracy: 0.7822 - val_loss: 0.7329 - val_accuracy: 0.7188\n",
      "Epoch 19/50\n",
      "38/38 [==============================] - 59s 2s/step - loss: 0.5635 - accuracy: 0.7705 - val_loss: 0.7580 - val_accuracy: 0.7188\n",
      "Epoch 20/50\n",
      "38/38 [==============================] - 58s 2s/step - loss: 0.5438 - accuracy: 0.7789 - val_loss: 0.7281 - val_accuracy: 0.7500\n",
      "Epoch 21/50\n",
      "38/38 [==============================] - 58s 2s/step - loss: 0.5586 - accuracy: 0.7571 - val_loss: 0.8229 - val_accuracy: 0.7188\n",
      "Epoch 22/50\n",
      "38/38 [==============================] - 59s 2s/step - loss: 0.5047 - accuracy: 0.7973 - val_loss: 0.8121 - val_accuracy: 0.7500\n",
      "Epoch 23/50\n",
      "38/38 [==============================] - 61s 2s/step - loss: 0.5144 - accuracy: 0.7789 - val_loss: 0.7623 - val_accuracy: 0.7344\n",
      "Epoch 24/50\n",
      "38/38 [==============================] - 60s 2s/step - loss: 0.5079 - accuracy: 0.7940 - val_loss: 0.7244 - val_accuracy: 0.7812\n",
      "Epoch 25/50\n",
      "38/38 [==============================] - 61s 2s/step - loss: 0.4508 - accuracy: 0.8208 - val_loss: 0.6798 - val_accuracy: 0.7500\n",
      "Epoch 26/50\n",
      "38/38 [==============================] - 61s 2s/step - loss: 0.4907 - accuracy: 0.7889 - val_loss: 0.6660 - val_accuracy: 0.7812\n",
      "Epoch 27/50\n",
      "38/38 [==============================] - 60s 2s/step - loss: 0.4465 - accuracy: 0.8258 - val_loss: 0.6783 - val_accuracy: 0.8125\n",
      "Epoch 28/50\n",
      "38/38 [==============================] - 59s 2s/step - loss: 0.4657 - accuracy: 0.8141 - val_loss: 0.6722 - val_accuracy: 0.7969\n",
      "Epoch 29/50\n",
      "38/38 [==============================] - 60s 2s/step - loss: 0.4262 - accuracy: 0.8442 - val_loss: 0.6460 - val_accuracy: 0.7969\n",
      "Epoch 30/50\n",
      "38/38 [==============================] - 60s 2s/step - loss: 0.4138 - accuracy: 0.8559 - val_loss: 0.6555 - val_accuracy: 0.7969\n"
     ]
    }
   ],
   "source": [
    "try:\n",
    "    config = ConfigurationManager()\n",
    "    prepare_callbacks_config = config.get_prepare_callback_config()\n",
    "    prepare_callbacks = PrepareCallback(config=prepare_callbacks_config)\n",
    "    callback_list = prepare_callbacks.get_tb_ckpt_callbacks()\n",
    "\n",
    "    training_config = config.get_training_config()\n",
    "    training = Training(config=training_config)\n",
    "    training.get_base_model()\n",
    "    training.train_valid_test_generator()\n",
    "    training.train(callback_list=callback_list)\n",
    "    \n",
    "except Exception as e:\n",
    "    raise e"
   ]
  },
  {
   "cell_type": "code",
   "execution_count": null,
   "metadata": {},
   "outputs": [],
   "source": []
  }
 ],
 "metadata": {
  "kernelspec": {
   "display_name": "cnn-cancer-env",
   "language": "python",
   "name": "python3"
  },
  "language_info": {
   "codemirror_mode": {
    "name": "ipython",
    "version": 3
   },
   "file_extension": ".py",
   "mimetype": "text/x-python",
   "name": "python",
   "nbconvert_exporter": "python",
   "pygments_lexer": "ipython3",
   "version": "3.8.0"
  }
 },
 "nbformat": 4,
 "nbformat_minor": 2
}
